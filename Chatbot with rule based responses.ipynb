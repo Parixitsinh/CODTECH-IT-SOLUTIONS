{
 "cells": [
  {
   "cell_type": "code",
   "execution_count": 18,
   "id": "f8e5462b",
   "metadata": {},
   "outputs": [],
   "source": [
    "import re\n",
    "import nltk\n",
    "from nltk.chat.util import Chat, reflections"
   ]
  },
  {
   "cell_type": "code",
   "execution_count": 19,
   "id": "1d532afb",
   "metadata": {},
   "outputs": [],
   "source": [
    "responses = [\n",
    "    (r\"hello\", [\"Hi there!\", \"Hello!\", \"Hey!\"]),\n",
    "    (r\"how are you\", [\"I'm good, thank you!\", \"Doing well, thanks!\"]),\n",
    "    (r\"what's your name\", [\"I am a chatbot.\", \"I don't have a name, I'm just a chatbot.\"]),\n",
    "    (r\"what do you do\", [\"I'm here to assist you with any questions you have.\", \"I'm a chatbot designed to help with various queries.\"]),\n",
    "    (r\"how can I help you\", [\"You can help by asking me any questions you have.\", \"Feel free to ask me anything you need assistance with.\"]),\n",
    "    (r\"tell me a joke\", [\"Why don't scientists trust atoms? Because they make up everything!\", \"What do you get when you cross a snowman and a vampire? Frostbite!\"]),\n",
    "    (r\"what is the meaning of life\", [\"The meaning of life is a philosophical question. Different people have different perspectives on it.\", \"The meaning of life is subjective and can vary from person to person.\"]),\n",
    "    (r\"favorite color\", [\"I don't have a favorite color. I'm a chatbot!\", \"Colors are interesting, but I don't have personal preferences.\"]),\n",
    "    (r\"where are you from\", [\"I exist in the digital realm, so I don't have a physical location.\", \"I'm from the world of code and algorithms.\"]),\n",
    "    (r\"how does the internet work\", [\"The internet is a global network of interconnected computers that communicate using standard protocols.\", \"It involves data transmission through a variety of networks and devices.\"]),    \n",
    "    (r\"who created you\", [\"I was created by a team of developers.\", \"My creators are talented individuals who programmed me to assist and chat with users.\"]),\n",
    "    (r\"do you have siblings\", [\"I don't have siblings. I'm a unique entity.\", \"I don't have family in the traditional sense. I'm a standalone program.\"]),\n",
    "    (r\"tell me a fun fact\", [\"Bananas are berries, but strawberries aren't.\", \"Honey never spoils; archaeologists have found pots of honey in ancient Egyptian tombs that are over 3,000 years old and still perfectly edible.\"]),\n",
    "    (r\"what's the weather like\", [\"I don't have real-time information. You might want to check a weather website or app for accurate updates.\", \"I can't provide current weather conditions. Try a weather service for the latest information.\"]),\n",
    "    (r\"tell me about yourself\", [\"I'm a chatbot designed to assist and engage in conversations. Feel free to ask me anything!\", \"I'm a program created to provide information and have conversations with users.\"]),\n",
    "    (r\"favorite book\", [\"I don't have personal preferences, including favorite books. However, I can recommend popular books in various genres if you're interested.\", \"I don't read books, but I can help you find recommendations based on your interests.\"]),\n",
    "    (r\"tell me a story\", [\"Once upon a time in the digital realm, there was a chatbot ready to assist and chat with users. The end.\", \"I'm not a great storyteller, but I'm here to answer your questions and engage in conversations.\"]),\n",
    "    (r\"what's your favorite food\", [\"I don't eat, so I don't have a favorite food. However, I can help you find recipes or information about different cuisines.\", \"I don't have preferences for food, but I'm happy to provide information about various dishes.\"]),\n",
    "    (r\"what's the meaning of happiness\", [\"Happiness is a subjective and personal experience. Different people find joy in different aspects of life.\", \"The meaning of happiness varies for each person. It can be found in relationships, accomplishments, or simple pleasures.\"]),\n",
    "    (r\"tell me about technology\", [\"Technology encompasses a wide range of tools and innovations designed to make tasks easier and more efficient. It includes computers, software, and various devices.\", \"Technology is the application of scientific knowledge to create tools, systems, and solutions that improve our lives.\"]),\n",
    "    (r\"tell me about the universe\", [\"The universe is vast and contains everything that exists, including planets, stars, galaxies, and cosmic structures.\", \"The universe is a vast expanse of space containing all of time and matter.\"]),\n",
    "    (r\"what's the meaning of love\", [\"Love is a complex and deep emotional connection between individuals. It can take various forms, such as romantic, platonic, or familial love.\", \"The meaning of love is subjective and varies for each person. It involves deep affection, care, and attachment.\"]),\n",
    "    (r\"favorite movie\", [\"I don't watch movies, but I can recommend popular movies across genres if you're interested.\", \"I don't have preferences for movies, but I can help you find recommendations based on your taste.\"]),\n",
    "    (r\"tell me a science fact\", [\"The speed of light is approximately 299,792 kilometers per second.\", \"The Earth is the only planet not named after a god.\"]),\n",
    "    (r\"what's your favorite music\", [\"I don't have personal preferences for music. However, I can suggest music based on your preferences if you'd like.\", \"I don't listen to music, but I can help you discover new artists and genres.\"]),\n",
    "    (r\"how to learn programming\", [\"Learning programming involves practice, resources, and patience. Start with basic concepts and gradually tackle more complex topics.\", \"There are many online platforms and courses that can help you learn programming. Practice coding regularly to improve your skills.\"]),\n",
    "    (r\"tell me a programming joke\", [\"Why do programmers prefer dark mode? Because light attracts bugs!\", \"Why did the programmer quit his job? He didn't get arrays.\"]),\n",
    "    (r\"what's the capital of [a country]\", [\"The capital of [a country] is [capital].\", \"I can provide information about the capitals of various countries. Just let me know which one you're interested in.\"]),\n",
    "    (r\"tell me about artificial intelligence\", [\"Artificial Intelligence (AI) is the simulation of human intelligence in machines, allowing them to perform tasks that typically require human intelligence.\", \"AI involves the development of algorithms and models that enable machines to learn, reason, and make decisions.\"]),\n",
    "    (r\"how does a computer work\", [\"A computer processes data through a series of steps, including input, processing, storage, and output. It uses a central processing unit (CPU) to execute instructions.\", \"Computers use binary code (0s and 1s) to represent and process information. They follow instructions from programs to perform tasks.\"]),\n",
    "    (r\"tell me a riddle\", [\"I'm not great at riddles, but here's one: The more you take, the more you leave behind. What am I? Answer: Footsteps.\", \"Here's a riddle for you: I speak without a mouth and hear without ears. I have no body, but I come alive with the wind. What am I? Answer: An echo.\"]),\n",
    "    (r\"how to stay motivated\", [\"Staying motivated involves setting clear goals, breaking them into smaller tasks, and celebrating small achievements along the way.\", \"Find inspiration in your passions, surround yourself with positive influences, and remind yourself of the benefits of achieving your goals.\"]),\n",
    "    (r\"tell me about a famous scientist\", [\"One of the most famous scientists is Albert Einstein, known for his contributions to the theory of relativity and the equation E=mc^2.\", \"Marie Curie, a pioneering scientist, made significant discoveries in radioactivity and was the first woman to win a Nobel Prize in two different fields.\"]),\n",
    "    (r\"what is the purpose of life\", [\"The purpose of life is a profound philosophical question. It's subjective and varies for each individual.\", \"Finding purpose in life often involves exploring personal values, relationships, and contributing to the well-being of others.\"]),\n",
    "    (r\"tell me a historical fact\", [\"In 1969, humans landed on the moon for the first time during the Apollo 11 mission.\", \"The Great Wall of China is one of the most impressive architectural feats, stretching over 13,000 miles.\"]),\n",
    "    (r\"how does a [specific technology] work\", [\"[Specific technology] works by [brief explanation]. If you want more details, feel free to ask about a specific aspect of it.\", \"The operation of [specific technology] involves [key processes]. If you have more specific questions, I'm here to help.\"]),\n",
    "    (r\"tell me a travel tip\", [\"When traveling, pack essential items in your carry-on, just in case your checked luggage is delayed or lost.\", \"Research local customs and traditions before traveling to a new destination to show respect for the local culture.\"]),\n",
    "    (r\"what is the meaning of success\", [\"Success is achieving personal goals and feeling a sense of fulfillment. It varies for each person and may include accomplishments in career, relationships, or personal development.\", \"Success is often tied to achieving meaningful and fulfilling outcomes in various aspects of life.\"]),\n",
    "    (r\"how to stay healthy\", [\"Maintaining a healthy lifestyle involves regular exercise, a balanced diet, sufficient sleep, and stress management.\", \"Stay hydrated, eat a variety of nutritious foods, and prioritize mental well-being to promote overall health.\"]),\n",
    "    (r\"tell me about a famous author\", [\"William Shakespeare is one of the most famous playwrights and poets in history, known for works like 'Romeo and Juliet' and 'Hamlet'.\", \"Jane Austen, an influential novelist, wrote classics such as 'Pride and Prejudice' and 'Sense and Sensibility'.\"]),\n",
    "    (r\"what is the future of technology\", [\"The future of technology holds advancements in artificial intelligence, robotics, renewable energy, and innovative solutions to global challenges.\", \"Expect continued growth in areas like quantum computing, biotechnology, and the Internet of Things.\"]),\n",
    "    (r\"tell me about a famous artist\", [\"Leonardo da Vinci, a renowned Renaissance artist, created masterpieces such as the 'Mona Lisa' and 'The Last Supper'.\", \"Vincent van Gogh, a post-impressionist painter, is celebrated for works like 'Starry Night' and 'Sunflowers'.\"]),\n",
    "    (r\"how does [scientific concept] work\", [\"[Scientific concept] works by [brief explanation]. If you have more specific questions, feel free to ask for additional details.\", \"Understanding [scientific concept] involves grasping the principles of [key principles]. I'm here to help with any specific questions.\"]),\n",
    "    (r\"tell me about a space mission\", [\"Apollo 11 was the first manned mission to land on the moon in 1969, with astronauts Neil Armstrong and Buzz Aldrin.\", \"The Hubble Space Telescope, launched in 1990, has provided valuable insights into distant galaxies and the age of the universe.\"]),\n",
    "    (r\"how to overcome procrastination\", [\"Overcoming procrastination involves setting realistic goals, breaking tasks into smaller steps, and using techniques like the Pomodoro technique for focused work intervals.\", \"Identify the root causes of procrastination, such as fear or lack of motivation, and develop strategies to address them.\"]),\n",
    "    (r\"favorite sports\", [\"I don't have personal preferences, but I can chat about various sports.\",\"As a chatbot, I don't have favorite sports, but I can provide information or updates on any sport you're interested in.\",\"I'm not into sports, but I can discuss and share interesting facts about a wide range of sports. Any specific one you'd like to know more about?\"]),\n",
    "    (r\"favorite car\", [\"I don't drive, so I don't have a favorite car. Is there a specific car or brand you're interested in learning about?\",\"While I don't have personal preferences, I can provide details about various car models, their features, and reviews. What type of car are you curious about?\",\"I don't have a favorite car, but I can help you with information on different cars. Do you have a particular brand or model in mind?\"]),\n",
    "    (r\"tell me about a famous musician\", [\"Ludwig van Beethoven, a classical composer, created timeless works like 'Symphony No. 9' and 'Moonlight Sonata'.\", \"Michael Jackson, the 'King of Pop', revolutionized the music industry with hits like 'Thriller' and 'Billie Jean'.\"]),\n",
    "    (r\"how to improve memory\", [\"To enhance memory, engage in regular mental exercises, get sufficient sleep, and maintain a healthy diet with brain-boosting foods.\", \"Practice techniques like visualization, association, and repetition to improve memory recall.\"]),\n",
    "    (r\"tell me about a historical event\", [\"The Renaissance, a cultural and artistic movement in the 14th-17th centuries, marked a period of significant advancements in science, art, and literature.\", \"The fall of the Berlin Wall in 1989 symbolized the end of the Cold War and the reunification of East and West Germany.\"]),\n",
    "    (r\"what is the future of space exploration\", [\"The future of space exploration includes plans for manned missions to Mars, advancements in space telescopes, and continued exploration of distant celestial bodies.\", \"Anticipate developments in space tourism, lunar colonies, and collaborations between space agencies.\"]),\n",
    "    (r\"tell me about a famous inventor\", [\"Thomas Edison, known for inventing the light bulb and the phonograph, held over a thousand patents.\", \"Nikola Tesla, a pioneering inventor, contributed to the development of alternating current (AC) electrical systems.\"]),\n",
    "    (r\"how to start a small business\", [\"Starting a small business involves thorough market research, creating a business plan, securing funding, and registering your company.\", \"Focus on a unique value proposition, understand your target audience, and stay adaptable to changes in the business landscape.\"]),\n",
    "    (r\"tell me about a cultural tradition\", [\"The Japanese tea ceremony, known as 'sado' or 'chanoyu', is a traditional ritual influenced by Zen Buddhism that emphasizes harmony, respect, purity, and tranquility.\", \"Dia de los Muertos, or Day of the Dead, is a Mexican tradition honoring deceased loved ones with vibrant celebrations, altars, and offerings.\"]),\n",
    "    (r\"how to learn a new language\", [\"Learning a new language involves consistent practice, using language-learning apps, engaging with native speakers, and immersing yourself in the language.\", \"Explore language courses, podcasts, and reading materials to enhance your vocabulary and comprehension.\"]),\n",
    "    (r\"tell me about a famous philosopher\", [\"Socrates, an ancient Greek philosopher, laid the foundation for Western philosophy through his teachings and questioning method.\", \"Confucius, a Chinese philosopher, emphasized ethical behavior, family values, and social harmony.\"]),\n",
    "    (r\"what is the impact of climate change\", [\"Climate change has led to rising global temperatures, extreme weather events, sea level rise, and threats to biodiversity, affecting ecosystems and human communities.\", \"Addressing climate change involves international cooperation, sustainable practices, and transitioning to renewable energy sources.\"]),\n",
    "    (r\"tell me about a famous activist\", [\"Mahatma Gandhi, a leader of the Indian independence movement, advocated for nonviolent civil disobedience and equality.\", \"Malala Yousafzai, a Pakistani activist, campaigns for girls' education and women's rights, even after surviving an assassination attempt by the Taliban.\"]),\n",
    "    (r\"how to develop good habits\", [\"Developing good habits involves setting specific goals, starting small, staying consistent, and rewarding yourself for progress.\", \"Use cues, routines, and rewards to establish positive habits and gradually incorporate them into your daily life.\"]),\n",
    "    (r\"tell me about a literary genre\", [\"Science fiction is a literary genre that explores speculative concepts such as futuristic technology, space exploration, and alternate realities.\", \"Magical realism combines realistic narratives with elements of magic, blurring the lines between the ordinary and the fantastical.\"]),\n",
    "    (r\"how to overcome fear\", [\"Overcoming fear involves understanding the source of fear, facing it gradually, and practicing relaxation techniques or mindfulness.\", \"Cognitive-behavioral therapy (CBT) and exposure therapy can be effective in addressing and overcoming specific fears.\"]),\n",
    "    (r\"tell me about a historical figure\", [\"Rosa Parks, known as the 'mother of the civil rights movement', played a pivotal role in the Montgomery Bus Boycott.\", \"Winston Churchill, a key figure in World War II, served as the Prime Minister of the United Kingdom during critical times.\"]),\n",
    "    (r\"how to become more creative\", [\"Boosting creativity involves engaging in diverse experiences, experimenting with new ideas, and embracing failure as part of the creative process.\", \"Cultivate a curious mindset, seek inspiration from various sources, and allow yourself to think outside conventional boundaries.\"]),\n",
    "    (r\"tell me about a famous landmark\", [\"The Taj Mahal, located in India, is a majestic white marble mausoleum known for its architectural beauty and symbol of eternal love.\", \"Machu Picchu, an ancient Incan city in Peru, is a UNESCO World Heritage site and one of the New Seven Wonders of the World.\"]),\n",
    "    (r\"how to improve public speaking skills\", [\"Improving public speaking skills involves practicing regularly, seeking constructive feedback, and mastering techniques like vocal modulation and body language.\", \"Joining public speaking groups or taking communication courses can enhance confidence and effectiveness in public speaking.\"]),\n",
    "    (r\"tell me about a cultural festival\", [\"Diwali, the Festival of Lights celebrated in India, involves lighting lamps, exchanging gifts, and enjoying festive meals.\", \"Carnival in Rio de Janeiro, Brazil, is a vibrant festival featuring parades, samba music, and colorful costumes.\"]),\n",
    "    (r\"how to maintain work-life balance\", [\"Maintaining work-life balance requires setting boundaries, prioritizing self-care, and communicating openly with colleagues and family.\", \"Schedule regular breaks, avoid overcommitting, and allocate time for activities that bring joy and relaxation.\"]),\n",
    "]"
   ]
  },
  {
   "cell_type": "code",
   "execution_count": 20,
   "id": "f7ae165c",
   "metadata": {},
   "outputs": [],
   "source": [
    "def create_chatbot(responses, reflections):\n",
    "    chatbot = Chat(responses, reflections)\n",
    "    return chatbot"
   ]
  },
  {
   "cell_type": "code",
   "execution_count": 21,
   "id": "454d859a",
   "metadata": {},
   "outputs": [],
   "source": [
    "chatbot = create_chatbot(responses, reflections)"
   ]
  },
  {
   "cell_type": "code",
   "execution_count": 22,
   "id": "8c68da1d",
   "metadata": {},
   "outputs": [
    {
     "name": "stdout",
     "output_type": "stream",
     "text": [
      "Hello! I'm your chatbot. Ask me anything.\n",
      "You: favourite car\n",
      "Chatbot: I don't have a favorite car, but I can help you with information on different cars. Do you have a particular brand or model in mind?\n",
      "You: favourite sports\n",
      "Chatbot: I don't have personal preferences, but I can chat about various sports.\n",
      "You: what's your favorite music\n",
      "Chatbot: I don't listen to music, but I can help you discover new artists and genres.\n",
      "You: favorite movie\n",
      "Chatbot: I don't have preferences for movies, but I can help you find recommendations based on your taste.\n",
      "You: how to learn programming\n",
      "Chatbot: Learning programming involves practice, resources, and patience. Start with basic concepts and gradually tackle more complex topics.\n",
      "You: exit\n",
      "Chatbot: Goodbye!\n"
     ]
    }
   ],
   "source": [
    "print(\"Hello! I'm your chatbot. Ask me anything.\")\n",
    "while True:\n",
    "    user_input = input(\"You: \")\n",
    "    if user_input.lower() == 'exit':\n",
    "        print(\"Chatbot: Goodbye!\")\n",
    "        break\n",
    "    response = chatbot.respond(user_input)\n",
    "    print(\"Chatbot:\", response)"
   ]
  },
  {
   "cell_type": "code",
   "execution_count": null,
   "id": "b81bcdfe",
   "metadata": {},
   "outputs": [],
   "source": []
  }
 ],
 "metadata": {
  "kernelspec": {
   "display_name": "Python 3 (ipykernel)",
   "language": "python",
   "name": "python3"
  },
  "language_info": {
   "codemirror_mode": {
    "name": "ipython",
    "version": 3
   },
   "file_extension": ".py",
   "mimetype": "text/x-python",
   "name": "python",
   "nbconvert_exporter": "python",
   "pygments_lexer": "ipython3",
   "version": "3.9.7"
  }
 },
 "nbformat": 4,
 "nbformat_minor": 5
}
